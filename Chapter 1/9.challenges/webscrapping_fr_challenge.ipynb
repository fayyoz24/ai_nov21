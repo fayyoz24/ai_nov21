{
 "cells": [
  {
   "cell_type": "code",
   "execution_count": 1,
   "metadata": {},
   "outputs": [],
   "source": [
    "import requests\n",
    "import selenium\n",
    "from selenium import webdriver\n",
    "from selenium.webdriver.common.keys import Keys\n",
    "from time import sleep\n",
    "import pandas as pd"
   ]
  },
  {
   "cell_type": "code",
   "execution_count": 2,
   "metadata": {},
   "outputs": [],
   "source": [
    "url = 'https://www.imdb.com/list/ls009668711/'\n",
    "driver = webdriver.Chrome(executable_path='C:\\programexe\\chromedriver.exe')\n",
    "driver.get(url)"
   ]
  },
  {
   "cell_type": "code",
   "execution_count": 3,
   "metadata": {},
   "outputs": [],
   "source": [
    "movie_names = []"
   ]
  },
  {
   "cell_type": "code",
   "execution_count": 4,
   "metadata": {},
   "outputs": [],
   "source": [
    "for i in range(1, 101):\n",
    "    names = driver.find_element_by_xpath('/html/body/div[4]/div/div[2]/div[3]/div[1]/div/div[3]/div[3]/div['+str(i)+']/div[2]/h3/a')\n",
    "    movie_names.append(names.text)"
   ]
  },
  {
   "cell_type": "code",
   "execution_count": 5,
   "metadata": {},
   "outputs": [],
   "source": [
    "movie_dates = []\n",
    "movie_dates.clear()"
   ]
  },
  {
   "cell_type": "code",
   "execution_count": 6,
   "metadata": {},
   "outputs": [],
   "source": [
    "for i in range(1, 101):\n",
    "    dates = driver.find_element_by_xpath('/html/body/div[4]/div/div[2]/div[3]/div[1]/div/div[3]/div[3]/div['+str(i)+']/div[2]/h3/span[2]')\n",
    "    movie_dates.append(int(dates.text.strip('(, ), (, I)')))"
   ]
  },
  {
   "cell_type": "code",
   "execution_count": 7,
   "metadata": {},
   "outputs": [],
   "source": [
    "ratings = []\n",
    "ratings.clear()"
   ]
  },
  {
   "cell_type": "code",
   "execution_count": 8,
   "metadata": {},
   "outputs": [],
   "source": [
    "for i in range(1, 101):\n",
    "    rating = driver.find_element_by_xpath('/html/body/div[4]/div/div[2]/div[3]/div[1]/div/div[3]/div[3]/div['+str(i)+']/div[2]/div[1]/div[1]/span[2]')\n",
    "    ratings.append(float(rating.text))"
   ]
  },
  {
   "cell_type": "code",
   "execution_count": 9,
   "metadata": {},
   "outputs": [],
   "source": [
    "durations = []\n",
    "durations.clear()"
   ]
  },
  {
   "cell_type": "code",
   "execution_count": 10,
   "metadata": {},
   "outputs": [],
   "source": [
    "for i in range(1, 101):\n",
    "    duration = driver.find_element_by_xpath('/html/body/div[4]/div/div[2]/div[3]/div[1]/div/div[3]/div[3]/div['+str(i)+']/div[2]/p[1]/span[3]')\n",
    "    durations.append(int(duration.text.strip(' min')))\n"
   ]
  },
  {
   "cell_type": "code",
   "execution_count": 11,
   "metadata": {},
   "outputs": [],
   "source": [
    "descriptions = []"
   ]
  },
  {
   "cell_type": "code",
   "execution_count": 12,
   "metadata": {},
   "outputs": [],
   "source": [
    "for i in range(1, 101):\n",
    "    desc = driver.find_element_by_xpath('/html/body/div[4]/div/div[2]/div[3]/div[1]/div/div[3]/div[3]/div['+str(i)+']/div[2]/p[2]')\n",
    "    descriptions.append(desc.text)\n"
   ]
  },
  {
   "cell_type": "code",
   "execution_count": 13,
   "metadata": {},
   "outputs": [],
   "source": [
    "votes = []\n",
    "votes.clear()"
   ]
  },
  {
   "cell_type": "code",
   "execution_count": 14,
   "metadata": {},
   "outputs": [],
   "source": [
    "for i in range(1, 101):\n",
    "    vote = driver.find_element_by_xpath('/html/body/div[4]/div/div[2]/div[3]/div[1]/div/div[3]/div[3]/div['+str(i)+']/div[2]/p[4]/span[2]')\n",
    "    votes.append(int(vote.text.replace(',', \"\")))"
   ]
  },
  {
   "cell_type": "code",
   "execution_count": 15,
   "metadata": {},
   "outputs": [],
   "source": [
    "grosss = []\n",
    "grosss.clear()"
   ]
  },
  {
   "cell_type": "code",
   "execution_count": 16,
   "metadata": {},
   "outputs": [],
   "source": [
    "from selenium.common.exceptions import NoSuchElementException"
   ]
  },
  {
   "cell_type": "code",
   "execution_count": 17,
   "metadata": {},
   "outputs": [],
   "source": [
    "\n",
    "for i in range(1, 101):\n",
    "    gros = driver.find_elements_by_xpath('/html/body/div[4]/div/div[2]/div[3]/div[1]/div/div[3]/div[3]/div['+str(i)+']/div[2]/p[4]/span[5]')\n",
    "    \n",
    "    if len(gros)>0:\n",
    "        grosss.append(float(gros[0].text.strip('M, $')))\n",
    "    else:\n",
    "        grosss.append(None)\n",
    "\n"
   ]
  },
  {
   "cell_type": "code",
   "execution_count": 18,
   "metadata": {},
   "outputs": [
    {
     "data": {
      "text/plain": [
       "[23.38, None, 136.8, 7.22]"
      ]
     },
     "execution_count": 18,
     "metadata": {},
     "output_type": "execute_result"
    }
   ],
   "source": [
    "grosss[21:25]"
   ]
  },
  {
   "cell_type": "code",
   "execution_count": 19,
   "metadata": {},
   "outputs": [],
   "source": [
    "Directors = []"
   ]
  },
  {
   "cell_type": "code",
   "execution_count": 20,
   "metadata": {},
   "outputs": [],
   "source": [
    "for i in range(1, 101):\n",
    "    director = driver.find_element_by_xpath('/html/body/div[4]/div/div[2]/div[3]/div[1]/div/div[3]/div[3]/div['+str(i)+']/div[2]/p[3]/a[1]')\n",
    "    Directors.append(director.text)"
   ]
  },
  {
   "cell_type": "code",
   "execution_count": 21,
   "metadata": {},
   "outputs": [],
   "source": [
    "genres = []"
   ]
  },
  {
   "cell_type": "code",
   "execution_count": 22,
   "metadata": {},
   "outputs": [],
   "source": [
    "for i in range(1, 101):\n",
    "    genre = driver.find_element_by_xpath('/html/body/div[4]/div/div[2]/div[3]/div[1]/div/div[3]/div[3]/div['+str(i)+']/div[2]/p[1]/span[5]')\n",
    "    genres.append(genre.text)"
   ]
  },
  {
   "cell_type": "code",
   "execution_count": 23,
   "metadata": {},
   "outputs": [],
   "source": [
    "\n",
    "actors_main = []\n",
    "actors_main.clear()"
   ]
  },
  {
   "cell_type": "code",
   "execution_count": 24,
   "metadata": {},
   "outputs": [],
   "source": [
    "for i in range(1, 101):\n",
    "    actor = driver.find_element_by_xpath('/html/body/div[4]/div/div[2]/div[3]/div[1]/div/div[3]/div[3]/div['+str(i)+']/div[2]/p[3]/a[2]')\n",
    "    actor1 = driver.find_element_by_xpath('/html/body/div[4]/div/div[2]/div[3]/div[1]/div/div[3]/div[3]/div['+str(i)+']/div[2]/p[3]/a[3]')\n",
    "    actor2 = driver.find_element_by_xpath('/html/body/div[4]/div/div[2]/div[3]/div[1]/div/div[3]/div[3]/div['+str(i)+']/div[2]/p[3]/a[4]')\n",
    "    actor3 = driver.find_element_by_xpath('/html/body/div[4]/div/div[2]/div[3]/div[1]/div/div[3]/div[3]/div['+str(i)+']/div[2]/p[3]/a[5]')\n",
    "    main_actor = actor.text+ \", \"+actor1.text+\", \"+actor2.text+\", \"+actor3.text\n",
    "    actors_main.append(main_actor)"
   ]
  },
  {
   "cell_type": "code",
   "execution_count": 25,
   "metadata": {},
   "outputs": [],
   "source": [
    "metascores = []\n",
    "metascores.clear()"
   ]
  },
  {
   "cell_type": "code",
   "execution_count": 26,
   "metadata": {},
   "outputs": [],
   "source": [
    "for i in range(1, 101):\n",
    "    meta = driver.find_element_by_xpath('/html/body/div[4]/div/div[2]/div[3]/div[1]/div/div[3]/div[3]/div['+str(i)+']/div[2]/div[2]/span')\n",
    "    metascores.append(int(meta.text))"
   ]
  },
  {
   "cell_type": "code",
   "execution_count": 27,
   "metadata": {},
   "outputs": [],
   "source": [
    "datas = pd.DataFrame({\n",
    "    \"Names\":movie_names,\n",
    "    \"Director names\":Directors,\n",
    "    \"Actors\":actors_main,\n",
    "    \"Dates\":movie_dates,\n",
    "    \"genres\": genres,\n",
    "    \"Votes\":votes,\n",
    "    \"Durations\":durations,\n",
    "    \"Ratings\":ratings,\n",
    "    \"Metascores\":metascores,\n",
    "    \"Gross\":grosss\n",
    "}, index=[i for i in range(1,101)])\n",
    "datas.to_csv(\"100_movies.csv\", index=[i for i in range(1,101)])"
   ]
  },
  {
   "cell_type": "code",
   "execution_count": 1,
   "metadata": {},
   "outputs": [
    {
     "ename": "NameError",
     "evalue": "name 'datas' is not defined",
     "output_type": "error",
     "traceback": [
      "\u001b[1;31m---------------------------------------------------------------------------\u001b[0m",
      "\u001b[1;31mNameError\u001b[0m                                 Traceback (most recent call last)",
      "\u001b[1;32m<ipython-input-1-eca5ffde02c3>\u001b[0m in \u001b[0;36m<module>\u001b[1;34m\u001b[0m\n\u001b[1;32m----> 1\u001b[1;33m \u001b[0ma\u001b[0m \u001b[1;33m=\u001b[0m \u001b[0mdatas\u001b[0m\u001b[1;33m[\u001b[0m\u001b[1;34m'Votes'\u001b[0m\u001b[1;33m]\u001b[0m\u001b[1;33m.\u001b[0m\u001b[0mmax\u001b[0m\u001b[1;33m(\u001b[0m\u001b[1;33m)\u001b[0m\u001b[1;33m\u001b[0m\u001b[1;33m\u001b[0m\u001b[0m\n\u001b[0m\u001b[0;32m      2\u001b[0m \u001b[0ma\u001b[0m\u001b[1;33m\u001b[0m\u001b[1;33m\u001b[0m\u001b[0m\n",
      "\u001b[1;31mNameError\u001b[0m: name 'datas' is not defined"
     ]
    }
   ],
   "source": [
    "a = datas['Votes'].max()\n",
    "a"
   ]
  },
  {
   "cell_type": "code",
   "execution_count": 29,
   "metadata": {},
   "outputs": [],
   "source": [
    "data_sorted_by_year = datas.sort_values(by=['Dates'], ascending=True)\n"
   ]
  },
  {
   "cell_type": "code",
   "execution_count": 30,
   "metadata": {},
   "outputs": [],
   "source": [
    "new_data = datas[datas['Dates'] >= 2000]\n",
    "sorted_by_year0 = new_data.sort_values(by=['Dates'])\n",
    "new_data1 = datas[datas['Dates'] < 2000]\n",
    "sorted_by_year1 = new_data1.sort_values(by=['Dates'])\n",
    "datas1 = datas.sort_values(by=['Ratings'])\n"
   ]
  },
  {
   "cell_type": "code",
   "execution_count": 31,
   "metadata": {},
   "outputs": [
    {
     "data": {
      "text/plain": [
       "<matplotlib.legend.Legend at 0x21057486310>"
      ]
     },
     "execution_count": 31,
     "metadata": {},
     "output_type": "execute_result"
    },
    {
     "data": {
      "image/png": "[encoded data removed]",
      "text/plain": [
       "<Figure size 432x288 with 1 Axes>"
      ]
     },
     "metadata": {
      "needs_background": "light"
     },
     "output_type": "display_data"
    }
   ],
   "source": [
    "import matplotlib.pyplot as plt\n",
    "\n",
    "width = 0.5\n",
    "x = datas1['Ratings']\n",
    "# x = sorted_by_year0['Dates']\n",
    "# votes0 = sorted_by_year0['Durations'].tolist()\n",
    "# votes1 = sorted_by_year1['Votes'].tolist()\n",
    "#plt.plot(x, datas['Ratings'], width)\n",
    "plt.plot(x, datas[\"Gross\"], c='r', marker='o', linestyle='dashed',markerfacecolor='black',linewidth=2\n",
    ",label=\"Gross for Rating\")\n",
    "plt.xlabel(\"Rating\")\n",
    "plt.ylabel(\"Gross\")\n",
    "plt.title(\"The change of gross by rating\")\n",
    "# plt.grid(True, linewidth= 1, linestyle=\"--\")\n",
    "\n",
    "#plt.scatter(x, datas['Metascores'])\n",
    "#plt.annotate('local max', xy=(ymax), xytext=(ymax+5),\n",
    "#             arrowprops=dict(facecolor='black', shrink=0.05),\n",
    "#             )\n",
    "# plt.bar(x+width, votes1, width)\n",
    "plt.legend()"
   ]
  },
  {
   "cell_type": "code",
   "execution_count": 32,
   "metadata": {},
   "outputs": [
    {
     "data": {
      "text/plain": [
       "[<matplotlib.lines.Line2D at 0x210587a64c0>,\n",
       " <matplotlib.lines.Line2D at 0x210587a6550>]"
      ]
     },
     "execution_count": 32,
     "metadata": {},
     "output_type": "execute_result"
    },
    {
     "data": {
      "image/png": "[encoded data removed]",
      "text/plain": [
       "<Figure size 432x288 with 1 Axes>"
      ]
     },
     "metadata": {
      "needs_background": "light"
     },
     "output_type": "display_data"
    }
   ],
   "source": [
    "plt.plot(x, datas['Ratings'], width)\n"
   ]
  },
  {
   "cell_type": "code",
   "execution_count": 16,
   "metadata": {},
   "outputs": [
    {
     "data": {
      "text/html": [
       "<div>\n",
       "<style scoped>\n",
       "    .dataframe tbody tr th:only-of-type {\n",
       "        vertical-align: middle;\n",
       "    }\n",
       "\n",
       "    .dataframe tbody tr th {\n",
       "        vertical-align: top;\n",
       "    }\n",
       "\n",
       "    .dataframe thead th {\n",
       "        text-align: right;\n",
       "    }\n",
       "</style>\n",
       "<table border=\"1\" class=\"dataframe\">\n",
       "  <thead>\n",
       "    <tr style=\"text-align: right;\">\n",
       "      <th></th>\n",
       "      <th>Unnamed: 0</th>\n",
       "      <th>Names</th>\n",
       "      <th>Director names</th>\n",
       "      <th>Actors</th>\n",
       "      <th>Dates</th>\n",
       "      <th>genres</th>\n",
       "      <th>Votes</th>\n",
       "      <th>Durations</th>\n",
       "      <th>Ratings</th>\n",
       "      <th>Metascores</th>\n",
       "      <th>Gross</th>\n",
       "    </tr>\n",
       "  </thead>\n",
       "  <tbody>\n",
       "    <tr>\n",
       "      <th>29</th>\n",
       "      <td>30</td>\n",
       "      <td>1900</td>\n",
       "      <td>Bernardo Bertolucci</td>\n",
       "      <td>Robert De Niro, Gérard Depardieu, Dominique Sa...</td>\n",
       "      <td>1976</td>\n",
       "      <td>Drama, History</td>\n",
       "      <td>24888</td>\n",
       "      <td>317</td>\n",
       "      <td>7.7</td>\n",
       "      <td>70</td>\n",
       "      <td>NaN</td>\n",
       "    </tr>\n",
       "  </tbody>\n",
       "</table>\n",
       "</div>"
      ],
      "text/plain": [
       "    Unnamed: 0 Names       Director names  \\\n",
       "29          30  1900  Bernardo Bertolucci   \n",
       "\n",
       "                                               Actors  Dates          genres  \\\n",
       "29  Robert De Niro, Gérard Depardieu, Dominique Sa...   1976  Drama, History   \n",
       "\n",
       "    Votes  Durations  Ratings  Metascores  Gross  \n",
       "29  24888        317      7.7          70    NaN  "
      ]
     },
     "execution_count": 16,
     "metadata": {},
     "output_type": "execute_result"
    }
   ],
   "source": [
    "import pandas as pd\n",
    "a = pd.read_csv(\"100_movies.csv\")\n",
    "max(a[\"Votes\"])\n",
    "\n",
    "# df[df.gender == False]\n",
    "a[a.Durations == max(a[\"Durations\"])]\n",
    "# max(a[\"Votes\"])\n",
    "#max(a[\"Gross\"])"
   ]
  }
 ],
 "metadata": {
  "interpreter": {
   "hash": "b3ba2566441a7c06988d0923437866b63cedc61552a5af99d1f4fb67d367b25f"
  },
  "kernelspec": {
   "display_name": "Python 3.8.8 64-bit ('base': conda)",
   "language": "python",
   "name": "python3"
  },
  "language_info": {
   "codemirror_mode": {
    "name": "ipython",
    "version": 3
   },
   "file_extension": ".py",
   "mimetype": "text/x-python",
   "name": "python",
   "nbconvert_exporter": "python",
   "pygments_lexer": "ipython3",
   "version": "3.8.8"
  },
  "orig_nbformat": 4
 },
 "nbformat": 4,
 "nbformat_minor": 2
}
