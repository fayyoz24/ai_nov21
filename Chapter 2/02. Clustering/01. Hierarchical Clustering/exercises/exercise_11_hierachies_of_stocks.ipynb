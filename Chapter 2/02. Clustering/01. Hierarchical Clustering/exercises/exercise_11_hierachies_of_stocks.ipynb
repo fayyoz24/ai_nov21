{
 "cells": [
  {
   "cell_type": "markdown",
   "metadata": {},
   "source": [
    "# Exercise 11: Hierarchies of stocks\n",
    "\n",
    "Previously, you used k-means clustering to cluster companies according to their stock price movements. This time, perform _hierarchical_ clustering of the companies.  You are given a NumPy array of price movements `movements`, where the rows correspond to companies, and a list of the company names `companies`.\n",
    "\n",
    "SciPy hierarchical clustering doesn't fit into a sklearn pipeline, so you'll need to use the `normalize()` function from `sklearn.preprocessing` instead of `Normalizer`."
   ]
  },
  {
   "cell_type": "markdown",
   "metadata": {},
   "source": [
    "**Step 1:** Load the data _(written for you)_"
   ]
  },
  {
   "cell_type": "code",
   "execution_count": 14,
   "metadata": {
    "collapsed": true,
    "exercise": false
   },
   "outputs": [],
   "source": [
    "import pandas as pd\n",
    "\n",
    "fn = '../datasets/company-stock-movements-2010-2015-incl.csv'\n",
    "stocks_df = pd.read_csv(fn, index_col=0)\n",
    "\n",
    "companies = list(stocks_df.index)\n",
    "movements = stocks_df.values"
   ]
  },
  {
   "cell_type": "code",
   "execution_count": 13,
   "metadata": {},
   "outputs": [
    {
     "data": {
      "text/html": [
       "<div>\n",
       "<style scoped>\n",
       "    .dataframe tbody tr th:only-of-type {\n",
       "        vertical-align: middle;\n",
       "    }\n",
       "\n",
       "    .dataframe tbody tr th {\n",
       "        vertical-align: top;\n",
       "    }\n",
       "\n",
       "    .dataframe thead th {\n",
       "        text-align: right;\n",
       "    }\n",
       "</style>\n",
       "<table border=\"1\" class=\"dataframe\">\n",
       "  <thead>\n",
       "    <tr style=\"text-align: right;\">\n",
       "      <th></th>\n",
       "      <th>2010-01-04</th>\n",
       "      <th>2010-01-05</th>\n",
       "      <th>2010-01-06</th>\n",
       "      <th>2010-01-07</th>\n",
       "      <th>2010-01-08</th>\n",
       "      <th>2010-01-11</th>\n",
       "      <th>2010-01-12</th>\n",
       "      <th>2010-01-13</th>\n",
       "      <th>2010-01-14</th>\n",
       "      <th>2010-01-15</th>\n",
       "      <th>...</th>\n",
       "      <th>2013-10-16</th>\n",
       "      <th>2013-10-17</th>\n",
       "      <th>2013-10-18</th>\n",
       "      <th>2013-10-21</th>\n",
       "      <th>2013-10-22</th>\n",
       "      <th>2013-10-23</th>\n",
       "      <th>2013-10-24</th>\n",
       "      <th>2013-10-25</th>\n",
       "      <th>2013-10-28</th>\n",
       "      <th>2013-10-29</th>\n",
       "    </tr>\n",
       "  </thead>\n",
       "  <tbody>\n",
       "    <tr>\n",
       "      <th>Apple</th>\n",
       "      <td>0.580000</td>\n",
       "      <td>-0.220005</td>\n",
       "      <td>-3.409998</td>\n",
       "      <td>-1.170000</td>\n",
       "      <td>1.680011</td>\n",
       "      <td>-2.689994</td>\n",
       "      <td>-1.469994</td>\n",
       "      <td>2.779997</td>\n",
       "      <td>-0.680003</td>\n",
       "      <td>-4.999995</td>\n",
       "      <td>...</td>\n",
       "      <td>0.320008</td>\n",
       "      <td>4.519997</td>\n",
       "      <td>2.899987</td>\n",
       "      <td>9.590019</td>\n",
       "      <td>-6.540016</td>\n",
       "      <td>5.959976</td>\n",
       "      <td>6.910011</td>\n",
       "      <td>-5.359962</td>\n",
       "      <td>0.840019</td>\n",
       "      <td>-19.589981</td>\n",
       "    </tr>\n",
       "    <tr>\n",
       "      <th>AIG</th>\n",
       "      <td>-0.640002</td>\n",
       "      <td>-0.650000</td>\n",
       "      <td>-0.210001</td>\n",
       "      <td>-0.420000</td>\n",
       "      <td>0.710001</td>\n",
       "      <td>-0.200001</td>\n",
       "      <td>-1.130001</td>\n",
       "      <td>0.069999</td>\n",
       "      <td>-0.119999</td>\n",
       "      <td>-0.500000</td>\n",
       "      <td>...</td>\n",
       "      <td>0.919998</td>\n",
       "      <td>0.709999</td>\n",
       "      <td>0.119999</td>\n",
       "      <td>-0.480000</td>\n",
       "      <td>0.010002</td>\n",
       "      <td>-0.279998</td>\n",
       "      <td>-0.190003</td>\n",
       "      <td>-0.040001</td>\n",
       "      <td>-0.400002</td>\n",
       "      <td>0.660000</td>\n",
       "    </tr>\n",
       "    <tr>\n",
       "      <th>Amazon</th>\n",
       "      <td>-2.350006</td>\n",
       "      <td>1.260009</td>\n",
       "      <td>-2.350006</td>\n",
       "      <td>-2.009995</td>\n",
       "      <td>2.960006</td>\n",
       "      <td>-2.309997</td>\n",
       "      <td>-1.640007</td>\n",
       "      <td>1.209999</td>\n",
       "      <td>-1.790001</td>\n",
       "      <td>-2.039994</td>\n",
       "      <td>...</td>\n",
       "      <td>2.109985</td>\n",
       "      <td>3.699982</td>\n",
       "      <td>9.570008</td>\n",
       "      <td>-3.450013</td>\n",
       "      <td>4.820008</td>\n",
       "      <td>-4.079986</td>\n",
       "      <td>2.579986</td>\n",
       "      <td>4.790009</td>\n",
       "      <td>-1.760009</td>\n",
       "      <td>3.740021</td>\n",
       "    </tr>\n",
       "    <tr>\n",
       "      <th>American express</th>\n",
       "      <td>0.109997</td>\n",
       "      <td>0.000000</td>\n",
       "      <td>0.260002</td>\n",
       "      <td>0.720002</td>\n",
       "      <td>0.190003</td>\n",
       "      <td>-0.270001</td>\n",
       "      <td>0.750000</td>\n",
       "      <td>0.300004</td>\n",
       "      <td>0.639999</td>\n",
       "      <td>-0.130001</td>\n",
       "      <td>...</td>\n",
       "      <td>0.680001</td>\n",
       "      <td>2.290001</td>\n",
       "      <td>0.409996</td>\n",
       "      <td>-0.069999</td>\n",
       "      <td>0.100006</td>\n",
       "      <td>0.069999</td>\n",
       "      <td>0.130005</td>\n",
       "      <td>1.849999</td>\n",
       "      <td>0.040001</td>\n",
       "      <td>0.540001</td>\n",
       "    </tr>\n",
       "    <tr>\n",
       "      <th>Boeing</th>\n",
       "      <td>0.459999</td>\n",
       "      <td>1.770000</td>\n",
       "      <td>1.549999</td>\n",
       "      <td>2.690003</td>\n",
       "      <td>0.059997</td>\n",
       "      <td>-1.080002</td>\n",
       "      <td>0.360000</td>\n",
       "      <td>0.549999</td>\n",
       "      <td>0.530002</td>\n",
       "      <td>-0.709999</td>\n",
       "      <td>...</td>\n",
       "      <td>1.559997</td>\n",
       "      <td>2.480003</td>\n",
       "      <td>0.019997</td>\n",
       "      <td>-1.220001</td>\n",
       "      <td>0.480003</td>\n",
       "      <td>3.020004</td>\n",
       "      <td>-0.029999</td>\n",
       "      <td>1.940002</td>\n",
       "      <td>1.130005</td>\n",
       "      <td>0.309998</td>\n",
       "    </tr>\n",
       "  </tbody>\n",
       "</table>\n",
       "<p>5 rows × 963 columns</p>\n",
       "</div>"
      ],
      "text/plain": [
       "                  2010-01-04  2010-01-05  2010-01-06  2010-01-07  2010-01-08  \\\n",
       "Apple               0.580000   -0.220005   -3.409998   -1.170000    1.680011   \n",
       "AIG                -0.640002   -0.650000   -0.210001   -0.420000    0.710001   \n",
       "Amazon             -2.350006    1.260009   -2.350006   -2.009995    2.960006   \n",
       "American express    0.109997    0.000000    0.260002    0.720002    0.190003   \n",
       "Boeing              0.459999    1.770000    1.549999    2.690003    0.059997   \n",
       "\n",
       "                  2010-01-11  2010-01-12  2010-01-13  2010-01-14  2010-01-15  \\\n",
       "Apple              -2.689994   -1.469994    2.779997   -0.680003   -4.999995   \n",
       "AIG                -0.200001   -1.130001    0.069999   -0.119999   -0.500000   \n",
       "Amazon             -2.309997   -1.640007    1.209999   -1.790001   -2.039994   \n",
       "American express   -0.270001    0.750000    0.300004    0.639999   -0.130001   \n",
       "Boeing             -1.080002    0.360000    0.549999    0.530002   -0.709999   \n",
       "\n",
       "                  ...  2013-10-16  2013-10-17  2013-10-18  2013-10-21  \\\n",
       "Apple             ...    0.320008    4.519997    2.899987    9.590019   \n",
       "AIG               ...    0.919998    0.709999    0.119999   -0.480000   \n",
       "Amazon            ...    2.109985    3.699982    9.570008   -3.450013   \n",
       "American express  ...    0.680001    2.290001    0.409996   -0.069999   \n",
       "Boeing            ...    1.559997    2.480003    0.019997   -1.220001   \n",
       "\n",
       "                  2013-10-22  2013-10-23  2013-10-24  2013-10-25  2013-10-28  \\\n",
       "Apple              -6.540016    5.959976    6.910011   -5.359962    0.840019   \n",
       "AIG                 0.010002   -0.279998   -0.190003   -0.040001   -0.400002   \n",
       "Amazon              4.820008   -4.079986    2.579986    4.790009   -1.760009   \n",
       "American express    0.100006    0.069999    0.130005    1.849999    0.040001   \n",
       "Boeing              0.480003    3.020004   -0.029999    1.940002    1.130005   \n",
       "\n",
       "                  2013-10-29  \n",
       "Apple             -19.589981  \n",
       "AIG                 0.660000  \n",
       "Amazon              3.740021  \n",
       "American express    0.540001  \n",
       "Boeing              0.309998  \n",
       "\n",
       "[5 rows x 963 columns]"
      ]
     },
     "execution_count": 13,
     "metadata": {},
     "output_type": "execute_result"
    }
   ],
   "source": [
    "stocks_df.head()"
   ]
  },
  {
   "cell_type": "markdown",
   "metadata": {},
   "source": [
    "**Step 2:** Make the necessary imports:\n",
    "\n",
    " + `normalize` from `sklearn.preprocessing`.\n",
    " + `linkage` and `dendrogram` from `scipy.cluster.hierarchy`.\n",
    " + `matplotlib.pyplot` as `plt`."
   ]
  },
  {
   "cell_type": "code",
   "execution_count": 5,
   "metadata": {
    "collapsed": true
   },
   "outputs": [],
   "source": [
    "from sklearn.preprocessing import normalize\n",
    "from scipy.cluster.hierarchy import dendrogram, linkage\n",
    "import matplotlib.pyplot as plt\n"
   ]
  },
  {
   "cell_type": "markdown",
   "metadata": {},
   "source": [
    "**Step 3:** Rescale the price movements for each stock by using the `normalize()` function on `movements`."
   ]
  },
  {
   "cell_type": "code",
   "execution_count": 19,
   "metadata": {
    "collapsed": true
   },
   "outputs": [
    {
     "data": {
      "text/plain": [
       "array([[ 0.10280701, -0.03591014, -0.18474461, ..., -0.32913755,\n",
       "         0.11335982, -0.72883059],\n",
       "       [-0.11344257, -0.10609573, -0.01137729, ..., -0.00245633,\n",
       "        -0.05397991,  0.02455481],\n",
       "       [-0.4165467 ,  0.20566397, -0.12731706, ...,  0.29413862,\n",
       "        -0.23751165,  0.13914468],\n",
       "       [ 0.01949735,  0.        ,  0.01408622, ...,  0.11360232,\n",
       "         0.0053981 ,  0.02009033]])"
      ]
     },
     "execution_count": 19,
     "metadata": {},
     "output_type": "execute_result"
    }
   ],
   "source": [
    "normalized_movements = normalize(movements, norm='l2', axis=0)"
   ]
  },
  {
   "cell_type": "markdown",
   "metadata": {},
   "source": [
    "**Step 4:** Apply the `linkage()` function to `normalized_movements`, using `'complete'` linkage, to calculate the hierarchical clustering. Assign the result to `mergings`."
   ]
  },
  {
   "cell_type": "code",
   "execution_count": 29,
   "metadata": {
    "collapsed": true
   },
   "outputs": [
    {
     "data": {
      "text/plain": [
       "array([[ 34.        ,  58.        ,   0.4745991 ,   2.        ],\n",
       "       [ 50.        ,  60.        ,   0.64695066,   3.        ],\n",
       "       [  5.        ,  16.        ,   0.73204914,   2.        ],\n",
       "       [ 14.        ,  61.        ,   0.76454674,   4.        ],\n",
       "       [ 15.        ,  62.        ,   0.83512733,   3.        ],\n",
       "       [ 63.        ,  64.        ,   0.87347221,   7.        ],\n",
       "       [ 39.        ,  52.        ,   0.88780986,   2.        ],\n",
       "       [ 11.        ,  65.        ,   0.90681394,   8.        ],\n",
       "       [ 21.        ,  45.        ,   0.92322642,   2.        ],\n",
       "       [ 66.        ,  67.        ,   0.95058571,  10.        ],\n",
       "       [ 47.        ,  69.        ,   0.96895242,  11.        ],\n",
       "       [  7.        ,  68.        ,   1.0081555 ,   3.        ],\n",
       "       [ 24.        ,  70.        ,   1.02479418,  12.        ],\n",
       "       [ 19.        ,  46.        ,   1.04069476,   2.        ],\n",
       "       [ 42.        ,  49.        ,   1.10039442,   2.        ],\n",
       "       [ 33.        ,  72.        ,   1.11261058,  13.        ],\n",
       "       [ 37.        ,  73.        ,   1.15078336,   3.        ],\n",
       "       [ 59.        ,  75.        ,   1.23183024,  14.        ],\n",
       "       [ 71.        ,  77.        ,   1.30964836,  17.        ],\n",
       "       [ 76.        ,  78.        ,   1.40283597,  20.        ],\n",
       "       [ 26.        ,  55.        ,   1.4913638 ,   2.        ],\n",
       "       [ 51.        ,  79.        ,   1.55271897,  21.        ],\n",
       "       [ 28.        ,  38.        ,   1.72956974,   2.        ],\n",
       "       [ 43.        ,  74.        ,   1.75458749,   3.        ],\n",
       "       [ 13.        ,  81.        ,   1.76189195,  22.        ],\n",
       "       [ 25.        ,  40.        ,   1.77853448,   2.        ],\n",
       "       [ 82.        ,  85.        ,   1.8639449 ,   4.        ],\n",
       "       [ 20.        ,  56.        ,   1.93250316,   2.        ],\n",
       "       [ 53.        ,  84.        ,   1.97850571,  23.        ],\n",
       "       [ 10.        ,  57.        ,   2.0219923 ,   2.        ],\n",
       "       [ 54.        ,  86.        ,   2.04386911,   5.        ],\n",
       "       [ 87.        ,  90.        ,   2.08853975,   7.        ],\n",
       "       [ 22.        ,  83.        ,   2.16150317,   4.        ],\n",
       "       [ 88.        ,  92.        ,   2.19114987,  27.        ],\n",
       "       [  3.        ,  80.        ,   2.21865534,   3.        ],\n",
       "       [ 29.        ,  36.        ,   2.23989343,   2.        ],\n",
       "       [ 27.        ,  91.        ,   2.29918795,   8.        ],\n",
       "       [ 12.        ,  89.        ,   2.31455645,   3.        ],\n",
       "       [ 48.        ,  93.        ,   2.35689592,  28.        ],\n",
       "       [ 94.        ,  98.        ,   2.41295964,  31.        ],\n",
       "       [  6.        ,  41.        ,   2.48687277,   2.        ],\n",
       "       [ 31.        ,  96.        ,   2.54939481,   9.        ],\n",
       "       [ 99.        , 101.        ,   2.71786715,  40.        ],\n",
       "       [  9.        , 100.        ,   2.80035852,   3.        ],\n",
       "       [ 32.        , 102.        ,   2.90353338,  41.        ],\n",
       "       [  4.        ,  95.        ,   3.01800029,   3.        ],\n",
       "       [103.        , 104.        ,   3.06037665,  44.        ],\n",
       "       [ 44.        ,  97.        ,   3.28555736,   4.        ],\n",
       "       [105.        , 106.        ,   3.41129023,  47.        ],\n",
       "       [  8.        , 107.        ,   3.62439033,   5.        ],\n",
       "       [  1.        , 108.        ,   3.78089496,  48.        ],\n",
       "       [ 35.        , 110.        ,   4.00137794,  49.        ],\n",
       "       [109.        , 111.        ,   4.19394501,  54.        ],\n",
       "       [ 23.        , 112.        ,   5.00272676,  55.        ],\n",
       "       [ 18.        , 113.        ,   6.69782202,  56.        ],\n",
       "       [  2.        , 114.        ,  10.49899417,  57.        ],\n",
       "       [ 30.        , 115.        ,  13.73894426,  58.        ],\n",
       "       [  0.        , 116.        ,  16.8932022 ,  59.        ],\n",
       "       [ 17.        , 117.        ,  18.18505054,  60.        ]])"
      ]
     },
     "execution_count": 29,
     "metadata": {},
     "output_type": "execute_result"
    }
   ],
   "source": [
    "mergings = linkage(normalized_movements, method='complete', metric='euclidean')\n",
    "mergings"
   ]
  },
  {
   "cell_type": "markdown",
   "metadata": {},
   "source": [
    "**Step 5:** Plot a dendrogram of the hierarchical clustering, using the list `companies` of company names as the `labels`. In addition, specify the `leaf_rotation=90`, and `leaf_font_size=10` keyword arguments as you did in the previous exercise."
   ]
  },
  {
   "cell_type": "code",
   "execution_count": 36,
   "metadata": {},
   "outputs": [
    {
     "data": {
      "image/png": "[encoded data removed]",
      "text/plain": [
       "<Figure size 432x288 with 1 Axes>"
      ]
     },
     "metadata": {
      "needs_background": "light"
     },
     "output_type": "display_data"
    }
   ],
   "source": [
    "dend = dendrogram(mergings, p=30, labels=companies, leaf_font_size=10, leaf_rotation=90)\n",
    "dend\n",
    "plt.show()"
   ]
  }
 ],
 "metadata": {
  "kernelspec": {
   "display_name": "Python 3",
   "language": "python",
   "name": "python3"
  },
  "language_info": {
   "codemirror_mode": {
    "name": "ipython",
    "version": 3
   },
   "file_extension": ".py",
   "mimetype": "text/x-python",
   "name": "python",
   "nbconvert_exporter": "python",
   "pygments_lexer": "ipython3",
   "version": "3.8.8"
  }
 },
 "nbformat": 4,
 "nbformat_minor": 2
}
