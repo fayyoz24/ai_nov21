{
 "cells": [
  {
   "cell_type": "code",
   "execution_count": 7,
   "metadata": {},
   "outputs": [
    {
     "name": "stdout",
     "output_type": "stream",
     "text": [
      "\n",
      "# \n",
      "# # \n",
      "# # # \n",
      "# # # # \n"
     ]
    }
   ],
   "source": [
    "def pyramids_cheat(n):\n",
    "    for i in range(n+1):\n",
    "        print(i * '# ') # space is added to separate"
   ]
  },
  {
   "cell_type": "code",
   "execution_count": 73,
   "metadata": {},
   "outputs": [
    {
     "name": "stdout",
     "output_type": "stream",
     "text": [
      "# \n",
      "# # \n",
      "# # # \n",
      "# # # # \n",
      "# # # # # \n",
      "# # # # # # \n"
     ]
    }
   ],
   "source": [
    "def printPattern(n):\n",
    "\n",
    "    hash = 0\n",
    "    line = 1\n",
    "    while(line <= n ):\n",
    " \n",
    "        if (hash < line):\n",
    "            print(\"# \", end = \"\")\n",
    "            hash += 1\n",
    "            continue\n",
    "     \n",
    "        if (hash == line):\n",
    "            print(\"\")\n",
    "            line += 1\n",
    "            hash = 0\n",
    "\n",
    "printPattern(6)"
   ]
  },
  {
   "cell_type": "code",
   "execution_count": 74,
   "metadata": {},
   "outputs": [
    {
     "name": "stdout",
     "output_type": "stream",
     "text": [
      "    # \n",
      "   # # \n",
      "  # # # \n",
      " # # # # \n",
      "# # # # # \n"
     ]
    }
   ],
   "source": [
    "n = 5\n",
    "k = n-1\n",
    "for i in range(0, n):\n",
    "    for j in range(0, k):\n",
    "        print(end= ' ')\n",
    "    k = k - 1\n",
    "    for j in range(0, i + 1):\n",
    "        print('# ', end= '')\n",
    "    print('') "
   ]
  },
  {
   "cell_type": "code",
   "execution_count": 75,
   "metadata": {},
   "outputs": [
    {
     "name": "stdout",
     "output_type": "stream",
     "text": [
      "    # \n",
      "   # # \n",
      "  # # # \n",
      " # # # # \n",
      "# # # # # \n"
     ]
    }
   ],
   "source": [
    "n = 5\n",
    "space = n-1\n",
    "printable = ''\n",
    "hash = 1\n",
    "for i in range(n):\n",
    "    print(space*' '+ hash*'# ')\n",
    "    space -=1\n",
    "    hash +=1"
   ]
  },
  {
   "cell_type": "markdown",
   "metadata": {},
   "source": [
    "In this challenge you need to code a function that receives a list of numbers and returns:\n",
    "\n",
    "Strive if the number is divisible by 3\n",
    "School if the number is divisible by 5\n",
    "Strive School if the number is divisible by 3 and 5\n",
    "the number itself otherwise\n",
    "i. e. strive_school([1, 2, 3, 5, 15]) outputs [1, 2, Strive, School, Strive School]"
   ]
  },
  {
   "cell_type": "code",
   "execution_count": 87,
   "metadata": {},
   "outputs": [
    {
     "name": "stdout",
     "output_type": "stream",
     "text": [
      "[1, 2, 'Strive', 'School', 'Strive School']\n"
     ]
    }
   ],
   "source": [
    "list_ = [1, 2, 3, 5, 15]\n",
    "b = list()\n",
    "for i in list_:\n",
    "    if (i%3 == 0) and (i%5 == 0):\n",
    "        b.append('Strive School')\n",
    "        continue\n",
    "    elif i % 3 == 0:\n",
    "        b.append('Strive')\n",
    "    elif i % 5 == 0:\n",
    "        b.append('School')\n",
    "    else:\n",
    "        b.append(i)\n",
    "print(b)"
   ]
  },
  {
   "cell_type": "markdown",
   "metadata": {},
   "source": [
    "In this challenge you need to code a function that receives a list of numbers and returns the non-duplicated number:\n",
    "\n",
    " \n",
    "\n",
    "i. e. function_whatever([1, 1, 2, 2, 3, 5, 5, 6, 6]) outputs 3\n",
    "\n",
    "i. e. function_whatever([1, 2, 2, 3, 3]) outputs 1"
   ]
  },
  {
   "cell_type": "code",
   "execution_count": 135,
   "metadata": {},
   "outputs": [
    {
     "name": "stdout",
     "output_type": "stream",
     "text": [
      "[3]\n"
     ]
    }
   ],
   "source": [
    "a = [1, 1, 2, 2, 3, 5, 5, 6, 6]\n",
    "def odd_occurring_num(list_):\n",
    "    return [i for i in list_ if list_.count(i) < 2]\n",
    "\n",
    "print(odd_occurring_num(a))\n",
    "\n"
   ]
  },
  {
   "cell_type": "markdown",
   "metadata": {},
   "source": [
    "\n",
    "The goal of this task is to write a function that is able to find the Secret Agent (if any) in a group of people.\n",
    "\n",
    "The function's parameters are the number of the people and a list of pairs (a list of two elements) with the following scheme:\n",
    "\n",
    "the first element of the pair is the name of the person who has information about the person in the second element of the pair. Example: [[felix, lara], [felix, jeno], [lara, jeno]] means that  Felix has information about Jeno and Lara, then Lara has information about Jeno.\n",
    "\n",
    " \n",
    "\n",
    "Rules:\n",
    "\n",
    "A Secret Agent is the person that has information about all the other people, but no one has information about the Secret Agent.\n",
    "\n",
    "So, in the previous example Felix has information about all the others, but no one has information about Felix -> Felix is the Secret Agent.\n",
    "\n",
    "You have to return:\n",
    "\n",
    "the Secret Agent (if any): [[felix, lara], [felix, jeno], [lara, jeno]] -> returns felix | [[felix, lara], [lara, jeno], [lara, felix]] -> returns lara\n",
    "0 if there isn't a Secret Agent ([[felix, lara], [lara, jeno], [jeno, felix]] -> returns 0) \n",
    "if the number of the people is less or equals to 0, or the length of the list is grater than the number of the people or if the length of the pair is not 2 -> returns -1"
   ]
  },
  {
   "cell_type": "code",
   "execution_count": 134,
   "metadata": {},
   "outputs": [
    {
     "name": "stdout",
     "output_type": "stream",
     "text": [
      "felix\n"
     ]
    }
   ],
   "source": [
    "# arr = [['felix', 'lara'], ['felix', 'jeno'], ['jeno', 'felix']]\n",
    "def asas(arr):\n",
    "    num_lists = len(arr)\n",
    "    list_ = []\n",
    "    for i in range(num_lists):\n",
    "\n",
    "        if len(arr[i]) != 2:\n",
    "            return -1\n",
    "        for j in arr[i]:\n",
    "            list_.append(j)\n",
    "    g = list(dict.fromkeys(list_))\n",
    "    if len(g) != num_lists:\n",
    "        return -1\n",
    "\n",
    "    \n",
    "    d = [list_[j] for j in range(len(list_)) if j%2==0]\n",
    "    for w in d:\n",
    "        if d.count(w)==2:\n",
    "            return w\n",
    "    return 0\n",
    "arr = [['felix', 'lara'], ['felix', 'jeno'], ['jeno', 'felix']]\n",
    "print(asas(arr))"
   ]
  }
 ],
 "metadata": {
  "interpreter": {
   "hash": "b3ba2566441a7c06988d0923437866b63cedc61552a5af99d1f4fb67d367b25f"
  },
  "kernelspec": {
   "display_name": "Python 3.8.8 64-bit ('base': conda)",
   "language": "python",
   "name": "python3"
  },
  "language_info": {
   "codemirror_mode": {
    "name": "ipython",
    "version": 3
   },
   "file_extension": ".py",
   "mimetype": "text/x-python",
   "name": "python",
   "nbconvert_exporter": "python",
   "pygments_lexer": "ipython3",
   "version": "3.8.8"
  },
  "orig_nbformat": 4
 },
 "nbformat": 4,
 "nbformat_minor": 2
}
