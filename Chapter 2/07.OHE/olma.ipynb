{
 "cells": [
  {
   "cell_type": "code",
   "execution_count": 3,
   "metadata": {},
   "outputs": [],
   "source": [
    "import pandas as pd"
   ]
  },
  {
   "cell_type": "code",
   "execution_count": 4,
   "metadata": {},
   "outputs": [],
   "source": [
    "df = pd.read_csv('insurance.csv')"
   ]
  },
  {
   "cell_type": "code",
   "execution_count": 8,
   "metadata": {},
   "outputs": [
    {
     "data": {
      "text/html": [
       "<div>\n",
       "<style scoped>\n",
       "    .dataframe tbody tr th:only-of-type {\n",
       "        vertical-align: middle;\n",
       "    }\n",
       "\n",
       "    .dataframe tbody tr th {\n",
       "        vertical-align: top;\n",
       "    }\n",
       "\n",
       "    .dataframe thead th {\n",
       "        text-align: right;\n",
       "    }\n",
       "</style>\n",
       "<table border=\"1\" class=\"dataframe\">\n",
       "  <thead>\n",
       "    <tr style=\"text-align: right;\">\n",
       "      <th></th>\n",
       "      <th>age</th>\n",
       "      <th>sex</th>\n",
       "      <th>bmi</th>\n",
       "      <th>children</th>\n",
       "      <th>smoker</th>\n",
       "      <th>region</th>\n",
       "      <th>charges</th>\n",
       "    </tr>\n",
       "  </thead>\n",
       "  <tbody>\n",
       "    <tr>\n",
       "      <th>0</th>\n",
       "      <td>19</td>\n",
       "      <td>female</td>\n",
       "      <td>27.900</td>\n",
       "      <td>0</td>\n",
       "      <td>yes</td>\n",
       "      <td>southwest</td>\n",
       "      <td>16884.92400</td>\n",
       "    </tr>\n",
       "    <tr>\n",
       "      <th>1</th>\n",
       "      <td>18</td>\n",
       "      <td>male</td>\n",
       "      <td>33.770</td>\n",
       "      <td>1</td>\n",
       "      <td>no</td>\n",
       "      <td>southeast</td>\n",
       "      <td>1725.55230</td>\n",
       "    </tr>\n",
       "    <tr>\n",
       "      <th>2</th>\n",
       "      <td>28</td>\n",
       "      <td>male</td>\n",
       "      <td>33.000</td>\n",
       "      <td>3</td>\n",
       "      <td>no</td>\n",
       "      <td>southeast</td>\n",
       "      <td>4449.46200</td>\n",
       "    </tr>\n",
       "    <tr>\n",
       "      <th>3</th>\n",
       "      <td>33</td>\n",
       "      <td>male</td>\n",
       "      <td>22.705</td>\n",
       "      <td>0</td>\n",
       "      <td>no</td>\n",
       "      <td>northwest</td>\n",
       "      <td>21984.47061</td>\n",
       "    </tr>\n",
       "    <tr>\n",
       "      <th>4</th>\n",
       "      <td>32</td>\n",
       "      <td>male</td>\n",
       "      <td>28.880</td>\n",
       "      <td>0</td>\n",
       "      <td>no</td>\n",
       "      <td>northwest</td>\n",
       "      <td>3866.85520</td>\n",
       "    </tr>\n",
       "  </tbody>\n",
       "</table>\n",
       "</div>"
      ],
      "text/plain": [
       "   age     sex     bmi  children smoker     region      charges\n",
       "0   19  female  27.900         0    yes  southwest  16884.92400\n",
       "1   18    male  33.770         1     no  southeast   1725.55230\n",
       "2   28    male  33.000         3     no  southeast   4449.46200\n",
       "3   33    male  22.705         0     no  northwest  21984.47061\n",
       "4   32    male  28.880         0     no  northwest   3866.85520"
      ]
     },
     "execution_count": 8,
     "metadata": {},
     "output_type": "execute_result"
    }
   ],
   "source": [
    "df.head()"
   ]
  },
  {
   "cell_type": "code",
   "execution_count": 9,
   "metadata": {},
   "outputs": [
    {
     "data": {
      "text/plain": [
       "0       1\n",
       "1       0\n",
       "2       0\n",
       "3       0\n",
       "4       0\n",
       "       ..\n",
       "1333    0\n",
       "1334    0\n",
       "1335    0\n",
       "1336    0\n",
       "1337    1\n",
       "Name: smoker, Length: 1338, dtype: int64"
      ]
     },
     "execution_count": 9,
     "metadata": {},
     "output_type": "execute_result"
    }
   ],
   "source": [
    "\n",
    "df.region.replace({'southwest':0, 'southeast':1, 'northwest':2, 'northeast':3})\n",
    "df.sex.replace({'female':0, 'male':1})\n",
    "df.smoker.replace({'yes':1, 'no':0})"
   ]
  },
  {
   "cell_type": "code",
   "execution_count": 32,
   "metadata": {},
   "outputs": [
    {
     "name": "stdout",
     "output_type": "stream",
     "text": [
      "training accuracy:1.0\n",
      " testing accuracy: 0.848029492362983\n"
     ]
    }
   ],
   "source": [
    "import re\n",
    "from this import d\n",
    "import pandas as pd\n",
    "from sklearn import preprocessing\n",
    "from sklearn.ensemble import AdaBoostRegressor\n",
    "from sklearn.ensemble import RandomForestRegressor\n",
    "from sklearn.tree import DecisionTreeRegressor\n",
    "from sklearn.ensemble import ExtraTreesRegressor\n",
    "from sklearn.model_selection import train_test_split\n",
    "from sklearn.preprocessing import OrdinalEncoder\n",
    "\n",
    "class Tree_algorithms:\n",
    "\n",
    "    def preprocess():\n",
    "        ord = OrdinalEncoder()\n",
    "        data = 'insurance.csv'\n",
    "        df = pd.read_csv(data)\n",
    "        df[['sex', 'smoker', 'region']] = ord.fit_transform(df[['sex', 'smoker', 'region']])\n",
    "\n",
    "        return df\n",
    "        \n",
    "    def dec_trees():\n",
    "        df = Tree_algorithms.preprocess()\n",
    "        y = df['smoker']\n",
    "        X = df.drop(['smoker'], axis=1)\n",
    "\n",
    "        X_train, X_test, y_train, y_test = train_test_split(X, y, test_size=0.3, random_state=0)\n",
    "\n",
    "        dctr = DecisionTreeRegressor(random_state=0)\n",
    "        dctr.fit(X_train, y_train)\n",
    "\n",
    "        train = dctr.score(X_train, y_train)\n",
    "        test = dctr.score(X_test, y_test)\n",
    "        return (f'training accuracy:{train}\\n testing accuracy: {test}')\n",
    "    \n",
    "    def rand_forest():\n",
    "        df = Tree_algorithms.preprocess()\n",
    "        y = df['smoker']\n",
    "        X = df.drop(['smoker'], axis=1)\n",
    "\n",
    "        X_train, X_test, y_train, y_test = train_test_split(X, y, test_size=0.3, random_state=0)\n",
    "\n",
    "        randf = RandomForestRegressor(random_state=0)\n",
    "        randf.fit(X_train, y_train)\n",
    "\n",
    "        train = randf.score(X_train, y_train)\n",
    "        test = randf.score(X_test, y_test)\n",
    "        return (f'training accuracy:{train}\\n testing accuracy: {test}')\n",
    "        \n",
    "    def ext_rand_tress():\n",
    "        df = Tree_algorithms.preprocess()\n",
    "        y = df['smoker']\n",
    "        X = df.drop(['smoker'], axis=1)\n",
    "\n",
    "        X_train, X_test, y_train, y_test = train_test_split(X, y, test_size=0.3, random_state=0)\n",
    "\n",
    "        ex_rand_tr = ExtraTreesRegressor(random_state=0)\n",
    "        ex_rand_tr.fit(X_train, y_train)\n",
    "\n",
    "        train = ex_rand_tr.score(X_train, y_train)\n",
    "        test = ex_rand_tr.score(X_test, y_test)\n",
    "        return (f'training accuracy:{train}\\n testing accuracy: {test}')\n",
    "        \n",
    "    def adaboosting():\n",
    "        df = Tree_algorithms.preprocess()\n",
    "        y = df['smoker']\n",
    "        X = df.drop(['smoker'], axis=1)\n",
    "\n",
    "        X_train, X_test, y_train, y_test = train_test_split(X, y, test_size=0.3, random_state=0)\n",
    "\n",
    "        adab = AdaBoostRegressor(random_state=0)\n",
    "        adab.fit(X_train, y_train)\n",
    "\n",
    "        train = adab.score(X_train, y_train)\n",
    "        test = adab.score(X_test, y_test)\n",
    "        return (f'training accuracy:{train}\\n testing accuracy: {test}')\n",
    "        \n",
    "    \n",
    "\n",
    "\n",
    "print(Tree_algorithms.ext_rand_tress())"
   ]
  },
  {
   "cell_type": "code",
   "execution_count": null,
   "metadata": {},
   "outputs": [],
   "source": [
    "df[df['olma']>2]"
   ]
  }
 ],
 "metadata": {
  "interpreter": {
   "hash": "b3ba2566441a7c06988d0923437866b63cedc61552a5af99d1f4fb67d367b25f"
  },
  "kernelspec": {
   "display_name": "Python 3.8.8 64-bit ('base': conda)",
   "language": "python",
   "name": "python3"
  },
  "language_info": {
   "codemirror_mode": {
    "name": "ipython",
    "version": 3
   },
   "file_extension": ".py",
   "mimetype": "text/x-python",
   "name": "python",
   "nbconvert_exporter": "python",
   "pygments_lexer": "ipython3",
   "version": "3.8.8"
  },
  "orig_nbformat": 4
 },
 "nbformat": 4,
 "nbformat_minor": 2
}
