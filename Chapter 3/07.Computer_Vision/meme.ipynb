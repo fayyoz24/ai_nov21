{
 "cells": [
  {
   "cell_type": "code",
   "execution_count": 3,
   "metadata": {},
   "outputs": [],
   "source": [
    "import cv2"
   ]
  },
  {
   "cell_type": "code",
   "execution_count": 6,
   "metadata": {},
   "outputs": [
    {
     "name": "stdout",
     "output_type": "stream",
     "text": [
      "olmacbashcbakcnca \n",
      "ncabiuanmsiowaih cnscasafq \n",
      "bgdfadsfbfadvsfbvfacsa dacs\n"
     ]
    }
   ],
   "source": [
    "def meme_text (text):\n",
    "\n",
    "    k = 0\n",
    "    d = 0\n",
    "    text1 = \"\"\n",
    "    for i in range(len(text)):\n",
    "        text1 += text[i]\n",
    "        k+=1\n",
    "        \n",
    "        if text[i]==' ':\n",
    "            d = i\n",
    "            \n",
    "        if k//25>0:\n",
    "            k-=25\n",
    "            text1 = text1[:(d+1)]+'\\n'+text1[(d+2):]\n",
    "    # print(d)\n",
    "    # print(k)\n",
    "    return text1\n",
    "# print(meme_text('olmacbashcbakcnca oncabiuanmsiowaih cnscasafq ebgdfadsfbfadvsfbvfacsa dacs'))\n"
   ]
  },
  {
   "cell_type": "code",
   "execution_count": 13,
   "metadata": {},
   "outputs": [],
   "source": [
    "def img_pr(image_path, place):\n",
    "    text = meme_text('olma guli dnc cns cwen cino csic as wqw rv reg ecs')\n",
    "    img = cv2.imread(image_path)\n",
    "    if place.lower() == 'up':\n",
    "        cv2.putText(img, text, (10,50), cv2.FONT_ITALIC, 2, (255,0,0), 3)\n",
    "        \n",
    "    return img\n",
    "\n",
    "a = img_pr('./pngs/dog_cat.jpg', 'Up')\n",
    "\n",
    "cv2.imshow('your meme',a)\n",
    "cv2.waitKey(0)\n",
    "cv2.destroyAllWindows()\n",
    "# print(a)"
   ]
  },
  {
   "cell_type": "code",
   "execution_count": null,
   "metadata": {},
   "outputs": [],
   "source": [
    "class MemeCreator():\n",
    "    def __init__(self, img, text, place):\n",
    "        "
   ]
  }
 ],
 "metadata": {
  "interpreter": {
   "hash": "827edffe690404515b6a18f1b388d577182abed0bb90f2cd050f513ed9c7727d"
  },
  "kernelspec": {
   "display_name": "Python 3.9.7 ('openCV')",
   "language": "python",
   "name": "python3"
  },
  "language_info": {
   "codemirror_mode": {
    "name": "ipython",
    "version": 3
   },
   "file_extension": ".py",
   "mimetype": "text/x-python",
   "name": "python",
   "nbconvert_exporter": "python",
   "pygments_lexer": "ipython3",
   "version": "3.9.7"
  },
  "orig_nbformat": 4
 },
 "nbformat": 4,
 "nbformat_minor": 2
}
