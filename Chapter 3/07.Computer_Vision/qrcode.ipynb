{
 "cells": [
  {
   "cell_type": "code",
   "execution_count": 7,
   "metadata": {},
   "outputs": [],
   "source": [
    "import cv2\n",
    "import matplotlib.pyplot as plt\n",
    "import numpy as np"
   ]
  },
  {
   "cell_type": "code",
   "execution_count": 11,
   "metadata": {},
   "outputs": [
    {
     "data": {
      "text/plain": [
       "'4.5.5'"
      ]
     },
     "execution_count": 11,
     "metadata": {},
     "output_type": "execute_result"
    }
   ],
   "source": [
    "cv2.__version__"
   ]
  },
  {
   "cell_type": "markdown",
   "metadata": {},
   "source": [
    "Detect the code using QRCodeDetector\n",
    "Print QR detected if a QR has been detected in the image\n",
    "Decode and print the decoded text\n",
    "Draw a rectangle around the QR code that has been detected and show it on the screen\n",
    "Save the QR region of the image to disk"
   ]
  },
  {
   "cell_type": "code",
   "execution_count": 15,
   "metadata": {},
   "outputs": [
    {
     "name": "stdout",
     "output_type": "stream",
     "text": [
      "http://about.me/paulshipper/moo\n",
      "[[[344.  42.]\n",
      "  [484.  42.]\n",
      "  [484. 182.]\n",
      "  [344. 182.]]]\n",
      "[[  0   0   0 ...   0   0   0]\n",
      " [  0 255 255 ... 255 255   0]\n",
      " [  0 255   0 ...   0 255   0]\n",
      " ...\n",
      " [  0 255   0 ... 255 255   0]\n",
      " [  0 255 255 ... 255   0 255]\n",
      " [  0   0   0 ... 255   0   0]]\n"
     ]
    }
   ],
   "source": [
    "qrDecoder = cv2.QRCodeDetector()\n",
    "img = cv2.imread('./pngs/qr1.jpg')\n",
    "# Detect and decode the qrcode\n",
    "\n",
    "retval, points, straight_qrcode = qrDecoder.detectAndDecode(img)\n",
    "\n",
    "print(retval)\n",
    "print(points)\n",
    "print(straight_qrcode)\n",
    "\n",
    "\n",
    "# print(type(olma))\n",
    "# print(type(points))\n",
    "# print(type(straight_qrcode))\n",
    "# print(straight_qrcode)\n",
    "# print(type(points))\n",
    "# if len(points)>0:\n",
    "\n",
    "#     print('QR detected')\n",
    "#     print(points)\n",
    "\n",
    "# cv2.rectangle(img, tuple(straight_qrcode[0][0].astype(int)), tuple(straight_qrcode[0][2].astype(int)), (0, 255, 0), 3)\n",
    "\n",
    "# cv2.imshow('QR region', img)\n",
    "# print(olma.shape)\n",
    "\n",
    "\n",
    "# cv2.waitKey(0)\n",
    "# cv2.destroyAllWindows()"
   ]
  },
  {
   "cell_type": "code",
   "execution_count": 9,
   "metadata": {},
   "outputs": [],
   "source": [
    "img = cv2.imread('./pngs/qr.png')\n",
    "cv2.imshow('image', img)\n",
    "cv2.waitKey(0)\n",
    "cv2.destroyAllWindows()"
   ]
  },
  {
   "cell_type": "code",
   "execution_count": 79,
   "metadata": {},
   "outputs": [
    {
     "data": {
      "text/plain": [
       "(65.0, 65.0)"
      ]
     },
     "execution_count": 79,
     "metadata": {},
     "output_type": "execute_result"
    }
   ],
   "source": [
    "tuple(straight_qrcode[0][0])"
   ]
  }
 ],
 "metadata": {
  "interpreter": {
   "hash": "827edffe690404515b6a18f1b388d577182abed0bb90f2cd050f513ed9c7727d"
  },
  "kernelspec": {
   "display_name": "Python 3.9.7 ('openCV')",
   "language": "python",
   "name": "python3"
  },
  "language_info": {
   "codemirror_mode": {
    "name": "ipython",
    "version": 3
   },
   "file_extension": ".py",
   "mimetype": "text/x-python",
   "name": "python",
   "nbconvert_exporter": "python",
   "pygments_lexer": "ipython3",
   "version": "3.9.7"
  },
  "orig_nbformat": 4
 },
 "nbformat": 4,
 "nbformat_minor": 2
}
