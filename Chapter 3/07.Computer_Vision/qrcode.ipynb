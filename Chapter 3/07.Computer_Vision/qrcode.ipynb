{
 "cells": [
  {
   "cell_type": "code",
   "execution_count": 2,
   "metadata": {},
   "outputs": [],
   "source": [
    "import cv2\n",
    "import matplotlib.pyplot as plt\n",
    "import numpy as np"
   ]
  },
  {
   "cell_type": "markdown",
   "metadata": {},
   "source": [
    "Detect the code using QRCodeDetector\n",
    "Print QR detected if a QR has been detected in the image\n",
    "Decode and print the decoded text\n",
    "Draw a rectangle around the QR code that has been detected and show it on the screen\n",
    "Save the QR region of the image to disk"
   ]
  },
  {
   "cell_type": "code",
   "execution_count": 83,
   "metadata": {},
   "outputs": [
    {
     "name": "stdout",
     "output_type": "stream",
     "text": [
      "<class 'numpy.ndarray'>\n",
      "<class 'str'>\n",
      "<class 'numpy.ndarray'>\n",
      "(1, 4, 2)\n",
      "<class 'str'>\n",
      "QR detected\n",
      "http://dumps.wikimedia.org/android/WLM-v1.1beta1.apk\n"
     ]
    }
   ],
   "source": [
    "qrDecoder = cv2.QRCodeDetector()\n",
    "img = cv2.imread('./pngs/qr.png')\n",
    "# Detect and decode the qrcode\n",
    "\n",
    "points, straight_qrcode, olma = qrDecoder.detectAndDecode(img)\n",
    "print(type(olma))\n",
    "print(type(points))\n",
    "print(type(straight_qrcode))\n",
    "print((straight_qrcode).shape)\n",
    "print(type(points))\n",
    "if len(points)>0:\n",
    "\n",
    "    print('QR detected')\n",
    "    print(points)\n",
    "\n",
    "cv2.rectangle(img, tuple(straight_qrcode[0][0].astype(int)), tuple(straight_qrcode[0][2].astype(int)), (0, 255, 0), 3)\n",
    "\n",
    "cv2.imshow('QR region', img)\n",
    "# print(olma.shape)\n",
    "\n",
    "\n",
    "cv2.waitKey(0)\n",
    "cv2.destroyAllWindows()"
   ]
  },
  {
   "cell_type": "code",
   "execution_count": 79,
   "metadata": {},
   "outputs": [
    {
     "data": {
      "text/plain": [
       "(65.0, 65.0)"
      ]
     },
     "execution_count": 79,
     "metadata": {},
     "output_type": "execute_result"
    }
   ],
   "source": [
    "tuple(straight_qrcode[0][0])"
   ]
  }
 ],
 "metadata": {
  "interpreter": {
   "hash": "827edffe690404515b6a18f1b388d577182abed0bb90f2cd050f513ed9c7727d"
  },
  "kernelspec": {
   "display_name": "Python 3.9.7 ('openCV')",
   "language": "python",
   "name": "python3"
  },
  "language_info": {
   "codemirror_mode": {
    "name": "ipython",
    "version": 3
   },
   "file_extension": ".py",
   "mimetype": "text/x-python",
   "name": "python",
   "nbconvert_exporter": "python",
   "pygments_lexer": "ipython3",
   "version": "3.9.7"
  },
  "orig_nbformat": 4
 },
 "nbformat": 4,
 "nbformat_minor": 2
}
